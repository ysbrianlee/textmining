{
 "cells": [
  {
   "attachments": {},
   "cell_type": "markdown",
   "metadata": {},
   "source": [
    "#  CNN - 이미지 분류를 응용한 문서 분류\n",
    "\n"
   ]
  },
  {
   "attachments": {},
   "cell_type": "markdown",
   "metadata": {},
   "source": [
    "## CNN을 이용한 문서 분류\n"
   ]
  },
  {
   "attachments": {},
   "cell_type": "markdown",
   "metadata": {},
   "source": [
    "### NLTK 영화 리뷰 데이터 변환\n",
    "\n"
   ]
  },
  {
   "cell_type": "code",
   "execution_count": 1,
   "metadata": {
    "scrolled": true
   },
   "outputs": [],
   "source": [
    "from nltk.corpus import movie_reviews\n",
    "import numpy as np\n",
    "import tensorflow as tf\n",
    "from tensorflow.keras.preprocessing.text import Tokenizer\n",
    "from tensorflow.keras.preprocessing.sequence import pad_sequences\n",
    "from sklearn.model_selection import train_test_split \n",
    "\n",
    "#movie review data에서 file id를 가져옴\n",
    "fileids = movie_reviews.fileids() \n",
    "#file id를 이용해 raw text file을 가져옴\n",
    "reviews = [movie_reviews.raw(fileid) for fileid in fileids] \n",
    "categories = [movie_reviews.categories(fileid)[0] for fileid in fileids] \n",
    "\n",
    "np.random.seed(7)\n",
    "tf.random.set_seed(7)\n",
    "\n",
    "max_words = 10000 #사용할 단어의 수\n",
    "maxlen = 500 #문서의 단어 수를 제한\n",
    "\n",
    "# 빈도가 높은 10000개의 단어를 선택하도록 객체 생성\n",
    "tokenizer = Tokenizer(num_words=max_words, oov_token='UNK') \n",
    "tokenizer.fit_on_texts(reviews) #단어 인덱스 구축\n",
    "\n",
    "X = tokenizer.texts_to_sequences(reviews) #만들어진 단어 인덱스를 이용해 변환\n",
    "X = pad_sequences(X, maxlen=maxlen, truncating='pre') \n",
    "\n",
    "# label을 0, 1의 값으로 변환\n",
    "label_dict = {'pos':0, 'neg':1}\n",
    "y = np.array([label_dict[c] for c in categories])\n",
    "X_train, X_test, y_train, y_test = train_test_split(X, y, test_size=0.2, random_state=10)"
   ]
  },
  {
   "attachments": {},
   "cell_type": "markdown",
   "metadata": {},
   "source": [
    "### CNN 모형 생성 및 학습\n",
    "\n"
   ]
  },
  {
   "cell_type": "code",
   "execution_count": 2,
   "metadata": {},
   "outputs": [
    {
     "name": "stdout",
     "output_type": "stream",
     "text": [
      "Model: \"sequential\"\n",
      "_________________________________________________________________\n",
      " Layer (type)                Output Shape              Param #   \n",
      "=================================================================\n",
      " embedding (Embedding)       (None, 500, 64)           640000    \n",
      "                                                                 \n",
      " conv1d (Conv1D)             (None, 496, 128)          41088     \n",
      "                                                                 \n",
      " max_pooling1d (MaxPooling1D  (None, 248, 128)         0         \n",
      " )                                                               \n",
      "                                                                 \n",
      " conv1d_1 (Conv1D)           (None, 244, 256)          164096    \n",
      "                                                                 \n",
      " max_pooling1d_1 (MaxPooling  (None, 122, 256)         0         \n",
      " 1D)                                                             \n",
      "                                                                 \n",
      " flatten (Flatten)           (None, 31232)             0         \n",
      "                                                                 \n",
      " dense (Dense)               (None, 64)                1998912   \n",
      "                                                                 \n",
      " dense_1 (Dense)             (None, 1)                 65        \n",
      "                                                                 \n",
      "=================================================================\n",
      "Total params: 2,844,161\n",
      "Trainable params: 2,844,161\n",
      "Non-trainable params: 0\n",
      "_________________________________________________________________\n"
     ]
    }
   ],
   "source": [
    "from tensorflow.keras.models import Sequential\n",
    "from tensorflow.keras.layers import Dense, Conv1D, MaxPooling1D\n",
    "from tensorflow.keras.layers import Embedding, Dropout, Flatten\n",
    "from tensorflow.keras.optimizers import Adam\n",
    "\n",
    "model = Sequential([\n",
    "    #word embedding layer 생성\n",
    "    Embedding(max_words, 64, input_length=maxlen), \n",
    "    Conv1D(128, # 채널의 수\n",
    "            5, # 1D 필터 크기\n",
    "            padding='valid', \n",
    "            activation='relu',\n",
    "            strides=1), \n",
    "    MaxPooling1D(),\n",
    "    Conv1D(256, # 채널의 수\n",
    "            5, # 1D 필터 크기\n",
    "            padding='valid', \n",
    "            activation='relu',\n",
    "            strides=1), \n",
    "    MaxPooling1D(),\n",
    "    Flatten(),\n",
    "    Dense(64, activation='relu'),\n",
    "    Dense(1, activation='sigmoid') #binary logistic regression을 수행\n",
    "])\n",
    "model.summary()"
   ]
  },
  {
   "cell_type": "code",
   "execution_count": 3,
   "metadata": {},
   "outputs": [],
   "source": [
    "adam = Adam(learning_rate=1e-3)\n",
    "model.compile(optimizer=adam, loss='binary_crossentropy', metrics=['acc'])\n",
    "history = model.fit(X_train, y_train, \n",
    "                    epochs=20,\n",
    "                    batch_size=256,\n",
    "                    verbose=0,\n",
    "                    validation_split=0.2)"
   ]
  },
  {
   "cell_type": "code",
   "execution_count": 4,
   "metadata": {},
   "outputs": [
    {
     "data": {
      "image/png": "[encoded data removed]",
      "text/plain": [
       "<Figure size 432x288 with 1 Axes>"
      ]
     },
     "metadata": {
      "needs_background": "light"
     },
     "output_type": "display_data"
    },
    {
     "name": "stdout",
     "output_type": "stream",
     "text": [
      "13/13 [==============================] - 0s 17ms/step - loss: 0.7867 - acc: 0.8225\n",
      "#Test accuracy:0.822\n"
     ]
    }
   ],
   "source": [
    "%matplotlib inline\n",
    "import matplotlib.pyplot as plt\n",
    "\n",
    "def plot_results(history, metric):\n",
    "    plt.plot(history.history[metric], 'b', label='Training '+metric)\n",
    "    plt.plot(history.history['val_'+metric], 'r--', label='Validation '+metric)\n",
    "    plt.title('Training vs. Validation '+metric)\n",
    "    plt.xlabel('Epochs')\n",
    "    plt.ylabel(metric)\n",
    "    plt.legend()\n",
    "    plt.show()\n",
    "\n",
    "plot_results(history, 'loss')\n",
    "\n",
    "#테스트 셋으로 학습된 모형의 성능을 평가\n",
    "score = model.evaluate(X_test, y_test)\n",
    "print(f'#Test accuracy:{score[1]:.3f}')"
   ]
  },
  {
   "cell_type": "code",
   "execution_count": null,
   "metadata": {},
   "outputs": [],
   "source": []
  }
 ],
 "metadata": {
  "kernelspec": {
   "display_name": "Python 3 (ipykernel)",
   "language": "python",
   "name": "python3"
  },
  "language_info": {
   "codemirror_mode": {
    "name": "ipython",
    "version": 3
   },
   "file_extension": ".py",
   "mimetype": "text/x-python",
   "name": "python",
   "nbconvert_exporter": "python",
   "pygments_lexer": "ipython3",
   "version": "3.9.12"
  },
  "toc": {
   "base_numbering": 1,
   "nav_menu": {},
   "number_sections": true,
   "sideBar": true,
   "skip_h1_title": false,
   "title_cell": "Table of Contents",
   "title_sidebar": "Contents",
   "toc_cell": true,
   "toc_position": {},
   "toc_section_display": true,
   "toc_window_display": true
  },
  "varInspector": {
   "cols": {
    "lenName": 16,
    "lenType": 16,
    "lenVar": 40
   },
   "kernels_config": {
    "python": {
     "delete_cmd_postfix": "",
     "delete_cmd_prefix": "del ",
     "library": "var_list.py",
     "varRefreshCmd": "print(var_dic_list())"
    },
    "r": {
     "delete_cmd_postfix": ") ",
     "delete_cmd_prefix": "rm(",
     "library": "var_list.r",
     "varRefreshCmd": "cat(var_dic_list()) "
    }
   },
   "types_to_exclude": [
    "module",
    "function",
    "builtin_function_or_method",
    "instance",
    "_Feature"
   ],
   "window_display": false
  }
 },
 "nbformat": 4,
 "nbformat_minor": 2
}
