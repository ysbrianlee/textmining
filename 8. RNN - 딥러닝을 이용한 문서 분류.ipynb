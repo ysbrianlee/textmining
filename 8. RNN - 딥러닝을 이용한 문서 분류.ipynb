{
 "cells": [
  {
   "attachments": {},
   "cell_type": "markdown",
   "metadata": {},
   "source": [
    "#  RNN - 딥러닝을 이용한 문서 분류\n",
    "\n",
    "##  RNN을 이용한 문서 분류 - NLTK 영화 리뷰 감성분석\n",
    "\n",
    "###  워드 임베딩을 위한 데이터 준비\n"
   ]
  },
  {
   "cell_type": "code",
   "execution_count": 1,
   "metadata": {},
   "outputs": [
    {
     "data": {
      "text/plain": [
       "'d:\\\\python-sample\\\\textminng-main'"
      ]
     },
     "execution_count": 1,
     "metadata": {},
     "output_type": "execute_result"
    }
   ],
   "source": [
    "import os\n",
    "os.getcwd()"
   ]
  },
  {
   "cell_type": "code",
   "execution_count": 2,
   "metadata": {
    "scrolled": true
   },
   "outputs": [
    {
     "name": "stdout",
     "output_type": "stream",
     "text": [
      "Reviews count: 2000\n",
      "Length of the first review: 4043\n",
      "Labels: {'pos', 'neg'}\n"
     ]
    }
   ],
   "source": [
    "from nltk.corpus import movie_reviews\n",
    "fileids = movie_reviews.fileids() #movie review data에서 file id를 가져옴\n",
    "reviews = [movie_reviews.raw(fileid) for fileid in fileids] #file id를 이용해 raw text file을 가져옴\n",
    "categories = [movie_reviews.categories(fileid)[0] for fileid in fileids] \n",
    "#file id를 이용해 label로 사용할 category 즉 positive와 negative 정보를 순서대로 가져옴\n",
    "\n",
    "print('Reviews count:', len(reviews))\n",
    "print('Length of the first review:', len(reviews[0]))\n",
    "print('Labels:', set(categories))"
   ]
  },
  {
   "cell_type": "code",
   "execution_count": 3,
   "metadata": {},
   "outputs": [
    {
     "name": "stdout",
     "output_type": "stream",
     "text": [
      "Lengths of first 10 documents: [710, 240, 486, 479, 733, 671, 550, 584, 702, 776]\n"
     ]
    }
   ],
   "source": [
    "import numpy as np\n",
    "import tensorflow as tf\n",
    "from tensorflow.keras.preprocessing.text import Tokenizer\n",
    "np.random.seed(7)\n",
    "tf.random.set_seed(7)\n",
    "\n",
    "max_words = 10000 #사용할 단어의 수\n",
    "\n",
    "# 빈도가 높은 10000개의 단어를 선택하도록 객체 생성\n",
    "tokenizer = Tokenizer(num_words=max_words, oov_token='UNK') \n",
    "\n",
    "tokenizer.fit_on_texts(reviews) #단어 인덱스 구축\n",
    "\n",
    "#만들어진 단어 인덱스를 이용해 문서들을 변환\n",
    "X = tokenizer.texts_to_sequences(reviews) \n",
    "\n",
    "print('Lengths of first 10 documents:', [len(doc) for doc in X[:10]])"
   ]
  },
  {
   "cell_type": "code",
   "execution_count": 4,
   "metadata": {},
   "outputs": [
    {
     "name": "stdout",
     "output_type": "stream",
     "text": [
      "Index of 'the': 2\n",
      "Index of 'review': 466\n",
      "Index of out-of-vocabulary words: 1\n"
     ]
    }
   ],
   "source": [
    "print(\"Index of 'the':\", tokenizer.word_index[\"the\"])\n",
    "print(\"Index of 'review':\", tokenizer.word_index[\"review\"])\n",
    "print(\"Index of out-of-vocabulary words:\", tokenizer.word_index[\"UNK\"])"
   ]
  },
  {
   "cell_type": "code",
   "execution_count": 5,
   "metadata": {},
   "outputs": [],
   "source": [
    "from tensorflow.keras.preprocessing.sequence import pad_sequences\n",
    "\n",
    "maxlen = 500 #문서의 단어 수를 제한\n",
    "\n",
    "# 문서의 단어 수가 500보다 작으면 0을 채우고, 크면 잘라냄\n",
    "# 잘라낼 때, 앞을 자를 지, 뒤를 자를 지 선택할 수 있음. 앞을 자르고 뒷부분을 쓰고자 하면 'pre' 선택\n",
    "X = pad_sequences(X, maxlen=maxlen, truncating='pre') "
   ]
  },
  {
   "cell_type": "code",
   "execution_count": 6,
   "metadata": {},
   "outputs": [
    {
     "name": "stdout",
     "output_type": "stream",
     "text": [
      "{0, 1}\n"
     ]
    }
   ],
   "source": [
    "import numpy as np\n",
    "\n",
    "# label을 0, 1의 값으로 변환\n",
    "label_dict = {'pos':1, 'neg':0}\n",
    "y = np.array([label_dict[c] for c in categories])\n",
    "print(set(y))"
   ]
  },
  {
   "cell_type": "code",
   "execution_count": 7,
   "metadata": {},
   "outputs": [
    {
     "name": "stdout",
     "output_type": "stream",
     "text": [
      "Train set count: 1600\n",
      "Test set count: 400\n",
      "Test samples: [0 1 1 0 1 1 0 0 0 0 1 1 0 0 1 0 0 1 1 1]\n"
     ]
    }
   ],
   "source": [
    "from sklearn.model_selection import train_test_split \n",
    "X_train, X_test, y_train, y_test = train_test_split(X, y, test_size=0.2, random_state=10)\n",
    "\n",
    "print('Train set count:', len(X_train))\n",
    "print('Test set count:', len(X_test))\n",
    "print('Test samples:', y_test[:20])"
   ]
  },
  {
   "attachments": {},
   "cell_type": "markdown",
   "metadata": {},
   "source": [
    "### RNN이 아닌 일반적인 신경망 모형을 이용한 분류\n"
   ]
  },
  {
   "cell_type": "code",
   "execution_count": 8,
   "metadata": {},
   "outputs": [
    {
     "name": "stdout",
     "output_type": "stream",
     "text": [
      "Model: \"sequential\"\n",
      "_________________________________________________________________\n",
      " Layer (type)                Output Shape              Param #   \n",
      "=================================================================\n",
      " embedding (Embedding)       (None, 500, 32)           320000    \n",
      "                                                                 \n",
      " flatten (Flatten)           (None, 16000)             0         \n",
      "                                                                 \n",
      " dense (Dense)               (None, 1)                 16001     \n",
      "                                                                 \n",
      "=================================================================\n",
      "Total params: 336,001\n",
      "Trainable params: 336,001\n",
      "Non-trainable params: 0\n",
      "_________________________________________________________________\n"
     ]
    }
   ],
   "source": [
    "# 케라스 모형 생성 및 학습\n",
    "from tensorflow.keras.models import Sequential\n",
    "from tensorflow.keras.layers import Flatten, Dense, Embedding\n",
    "\n",
    "model = Sequential([ #순차적 모형\n",
    "    Embedding(max_words, 32, input_length=maxlen), #word embedding layer 생성\n",
    "    # max_words는 one-hot encoding을 할 때의 vector 크기가 됨 - 사용된 단어의 수만큼\n",
    "    # 각 단어는 32 크기의 dense vector로 embedding 됨\n",
    "    # input_length는 한 document의 단어 수로 표현\n",
    "    # 이 과정을 거치면 각 document는 (maxlen, 32)의 2차원 행렬이 됨 - 즉 word의 sequence가 됨\n",
    "\n",
    "    Flatten(), # 2차원 행렬을 1차원으로 펼침\n",
    "    Dense(1, activation='sigmoid') #binary logistic regression을 수행\n",
    "])\n",
    "\n",
    "model.summary() #모델의 요약정보 출력"
   ]
  },
  {
   "cell_type": "code",
   "execution_count": 9,
   "metadata": {},
   "outputs": [
    {
     "name": "stdout",
     "output_type": "stream",
     "text": [
      "Epoch 1/10\n",
      "40/40 [==============================] - 3s 23ms/step - loss: 0.6923 - acc: 0.5117 - val_loss: 0.6860 - val_acc: 0.5531\n",
      "Epoch 2/10\n",
      "40/40 [==============================] - 0s 11ms/step - loss: 0.5899 - acc: 0.9211 - val_loss: 0.6739 - val_acc: 0.5813\n",
      "Epoch 3/10\n",
      "40/40 [==============================] - 0s 11ms/step - loss: 0.4543 - acc: 0.9773 - val_loss: 0.6491 - val_acc: 0.6406\n",
      "Epoch 4/10\n",
      "40/40 [==============================] - 0s 10ms/step - loss: 0.2971 - acc: 0.9953 - val_loss: 0.6148 - val_acc: 0.6812\n",
      "Epoch 5/10\n",
      "40/40 [==============================] - 0s 11ms/step - loss: 0.1662 - acc: 0.9984 - val_loss: 0.5807 - val_acc: 0.7188\n",
      "Epoch 6/10\n",
      "40/40 [==============================] - 0s 10ms/step - loss: 0.0813 - acc: 1.0000 - val_loss: 0.5610 - val_acc: 0.6844\n",
      "Epoch 7/10\n",
      "40/40 [==============================] - 1s 14ms/step - loss: 0.0362 - acc: 1.0000 - val_loss: 0.5413 - val_acc: 0.7063\n",
      "Epoch 8/10\n",
      "40/40 [==============================] - 0s 11ms/step - loss: 0.0146 - acc: 1.0000 - val_loss: 0.5316 - val_acc: 0.7094\n",
      "Epoch 9/10\n",
      "40/40 [==============================] - 1s 16ms/step - loss: 0.0055 - acc: 1.0000 - val_loss: 0.5202 - val_acc: 0.7375\n",
      "Epoch 10/10\n",
      "40/40 [==============================] - 1s 13ms/step - loss: 0.0019 - acc: 1.0000 - val_loss: 0.5341 - val_acc: 0.7312\n"
     ]
    }
   ],
   "source": [
    "# 모형의 optimizer와 loss function 등을 지정\n",
    "model.compile(optimizer='rmsprop', loss='binary_crossentropy', metrics=['acc'])\n",
    "# 학습을 수행\n",
    "history = model.fit(X_train, y_train, \n",
    "                    epochs=10,\n",
    "                    verbose=1,\n",
    "                    validation_split=0.2)"
   ]
  },
  {
   "cell_type": "code",
   "execution_count": 10,
   "metadata": {},
   "outputs": [
    {
     "data": {
      "image/png": "[encoded data removed]",
      "text/plain": [
       "<Figure size 432x288 with 1 Axes>"
      ]
     },
     "metadata": {
      "needs_background": "light"
     },
     "output_type": "display_data"
    }
   ],
   "source": [
    "%matplotlib inline\n",
    "import matplotlib.pyplot as plt\n",
    "\n",
    "def plot_results(history, metric):\n",
    "    plt.plot(history.history[metric], 'b', label='Training '+metric)\n",
    "    plt.plot(history.history['val_'+metric], 'r--', label='Validation '+metric)\n",
    "    plt.title('Training vs. Validation '+metric)\n",
    "    plt.xlabel('Epochs')\n",
    "    plt.ylabel(metric)\n",
    "    plt.legend()\n",
    "    plt.show()\n",
    "\n",
    "plot_results(history, 'acc')"
   ]
  },
  {
   "cell_type": "code",
   "execution_count": 11,
   "metadata": {},
   "outputs": [
    {
     "name": "stdout",
     "output_type": "stream",
     "text": [
      "13/13 [==============================] - 0s 6ms/step - loss: 0.5422 - acc: 0.7175\n",
      "#Test accuracy:0.717\n"
     ]
    }
   ],
   "source": [
    "#테스트 셋으로 학습된 모형의 성능을 평가\n",
    "score = model.evaluate(X_test, y_test)\n",
    "print(f'#Test accuracy:{score[1]:.3f}')"
   ]
  },
  {
   "attachments": {},
   "cell_type": "markdown",
   "metadata": {},
   "source": [
    "###  문서의 순서정보를 활용하는 RNN 기반 문서분류\n"
   ]
  },
  {
   "cell_type": "code",
   "execution_count": 12,
   "metadata": {},
   "outputs": [
    {
     "name": "stdout",
     "output_type": "stream",
     "text": [
      "Model: \"sequential_1\"\n",
      "_________________________________________________________________\n",
      " Layer (type)                Output Shape              Param #   \n",
      "=================================================================\n",
      " embedding_1 (Embedding)     (None, None, 32)          320000    \n",
      "                                                                 \n",
      " simple_rnn (SimpleRNN)      (None, 32)                2080      \n",
      "                                                                 \n",
      " dense_1 (Dense)             (None, 32)                1056      \n",
      "                                                                 \n",
      " dense_2 (Dense)             (None, 1)                 33        \n",
      "                                                                 \n",
      "=================================================================\n",
      "Total params: 323,169\n",
      "Trainable params: 323,169\n",
      "Non-trainable params: 0\n",
      "_________________________________________________________________\n"
     ]
    },
    {
     "data": {
      "image/png": "[encoded data removed]",
      "text/plain": [
       "<Figure size 432x288 with 1 Axes>"
      ]
     },
     "metadata": {
      "needs_background": "light"
     },
     "output_type": "display_data"
    },
    {
     "name": "stdout",
     "output_type": "stream",
     "text": [
      "13/13 [==============================] - 2s 147ms/step - loss: 0.7274 - acc: 0.5125\n",
      "#Test accuracy:0.512\n"
     ]
    }
   ],
   "source": [
    "from tensorflow.keras.layers import SimpleRNN\n",
    "from tensorflow.keras.optimizers import Adam\n",
    "\n",
    "model = Sequential([\n",
    "    Embedding(max_words, 32),\n",
    "    SimpleRNN(32), # 펼쳐서 flat하게 만드는 대신 RNN 모형을 사용, maxlen만큼의 시계열 데이터\n",
    "    Dense(32, activation='relu'),\n",
    "    Dense(1, activation='sigmoid')\n",
    "])\n",
    "model.summary()\n",
    "\n",
    "adam = Adam(learning_rate=1e-4)\n",
    "model.compile(optimizer=adam, loss='binary_crossentropy', metrics=['acc'])\n",
    "history = model.fit(X_train, y_train, \n",
    "                    epochs=10,\n",
    "                    verbose=0,\n",
    "                    validation_split=0.2)\n",
    "\n",
    "plot_results(history, 'acc')\n",
    "#테스트 셋으로 학습된 모형의 성능을 평가\n",
    "score = model.evaluate(X_test, y_test)\n",
    "print(f'#Test accuracy:{score[1]:.3f}')"
   ]
  },
  {
   "attachments": {},
   "cell_type": "markdown",
   "metadata": {},
   "source": [
    "##  LSTM, Bi-LSTM과 GRU를 이용한 성능 개선\n"
   ]
  },
  {
   "cell_type": "code",
   "execution_count": 13,
   "metadata": {},
   "outputs": [
    {
     "name": "stdout",
     "output_type": "stream",
     "text": [
      "Model: \"sequential_2\"\n",
      "_________________________________________________________________\n",
      " Layer (type)                Output Shape              Param #   \n",
      "=================================================================\n",
      " embedding_2 (Embedding)     (None, None, 64)          640000    \n",
      "                                                                 \n",
      " bidirectional (Bidirectiona  (None, 128)              66048     \n",
      " l)                                                              \n",
      "                                                                 \n",
      " dense_3 (Dense)             (None, 64)                8256      \n",
      "                                                                 \n",
      " dense_4 (Dense)             (None, 1)                 65        \n",
      "                                                                 \n",
      "=================================================================\n",
      "Total params: 714,369\n",
      "Trainable params: 714,369\n",
      "Non-trainable params: 0\n",
      "_________________________________________________________________\n"
     ]
    },
    {
     "data": {
      "image/png": "[encoded data removed]",
      "text/plain": [
       "<Figure size 432x288 with 1 Axes>"
      ]
     },
     "metadata": {
      "needs_background": "light"
     },
     "output_type": "display_data"
    },
    {
     "name": "stdout",
     "output_type": "stream",
     "text": [
      "13/13 [==============================] - 1s 21ms/step - loss: 0.4573 - acc: 0.8000\n",
      "#Test accuracy:0.800\n"
     ]
    }
   ],
   "source": [
    "from tensorflow.keras.layers import LSTM, Bidirectional\n",
    "\n",
    "model = Sequential([\n",
    "    Embedding(max_words, 64),\n",
    "    Bidirectional(LSTM(64)), # simple RNN 대신 bidirectional LSTM을 사용\n",
    "    Dense(64, activation='relu'),\n",
    "    Dense(1, activation='sigmoid')\n",
    "])\n",
    "model.summary()\n",
    "\n",
    "model.compile(optimizer=adam, loss='binary_crossentropy', metrics=['acc'])\n",
    "\n",
    "history = model.fit(X_train, y_train, \n",
    "                    epochs=8,\n",
    "                    verbose=0,\n",
    "                    validation_split=0.2)\n",
    "\n",
    "plot_results(history, 'acc')\n",
    "\n",
    "#테스트 셋으로 학습된 모형의 성능을 평가\n",
    "score = model.evaluate(X_test, y_test)\n",
    "print(f'#Test accuracy:{score[1]:.3f}')"
   ]
  },
  {
   "cell_type": "code",
   "execution_count": 14,
   "metadata": {},
   "outputs": [
    {
     "name": "stdout",
     "output_type": "stream",
     "text": [
      "1/1 [==============================] - 1s 699ms/step\n",
      "predicted value: 1.0, true value: 0, so the prediction is False\n",
      "predicted value: 1.0, true value: 1, so the prediction is True\n",
      "predicted value: 1.0, true value: 1, so the prediction is True\n",
      "predicted value: 0.0, true value: 0, so the prediction is True\n",
      "predicted value: 1.0, true value: 1, so the prediction is True\n",
      "predicted value: 1.0, true value: 1, so the prediction is True\n",
      "predicted value: 0.0, true value: 0, so the prediction is True\n",
      "predicted value: 1.0, true value: 0, so the prediction is False\n",
      "predicted value: 1.0, true value: 0, so the prediction is False\n",
      "predicted value: 0.0, true value: 0, so the prediction is True\n"
     ]
    }
   ],
   "source": [
    "y_pred = np.round(model.predict(X_test[:10]))\n",
    "for pred, y_t in zip(y_pred, y_test[:10]):\n",
    "    print(f'predicted value: {pred[0]}, true value: {y_t}, so the prediction is {pred[0] == y_t}')"
   ]
  },
  {
   "cell_type": "code",
   "execution_count": null,
   "metadata": {},
   "outputs": [],
   "source": []
  }
 ],
 "metadata": {
  "kernelspec": {
   "display_name": "Python 3 (ipykernel)",
   "language": "python",
   "name": "python3"
  },
  "language_info": {
   "codemirror_mode": {
    "name": "ipython",
    "version": 3
   },
   "file_extension": ".py",
   "mimetype": "text/x-python",
   "name": "python",
   "nbconvert_exporter": "python",
   "pygments_lexer": "ipython3",
   "version": "3.9.12"
  },
  "toc": {
   "base_numbering": 1,
   "nav_menu": {},
   "number_sections": true,
   "sideBar": true,
   "skip_h1_title": false,
   "title_cell": "Table of Contents",
   "title_sidebar": "Contents",
   "toc_cell": true,
   "toc_position": {},
   "toc_section_display": true,
   "toc_window_display": true
  },
  "varInspector": {
   "cols": {
    "lenName": 16,
    "lenType": 16,
    "lenVar": 40
   },
   "kernels_config": {
    "python": {
     "delete_cmd_postfix": "",
     "delete_cmd_prefix": "del ",
     "library": "var_list.py",
     "varRefreshCmd": "print(var_dic_list())"
    },
    "r": {
     "delete_cmd_postfix": ") ",
     "delete_cmd_prefix": "rm(",
     "library": "var_list.r",
     "varRefreshCmd": "cat(var_dic_list()) "
    }
   },
   "types_to_exclude": [
    "module",
    "function",
    "builtin_function_or_method",
    "instance",
    "_Feature"
   ],
   "window_display": false
  }
 },
 "nbformat": 4,
 "nbformat_minor": 2
}
